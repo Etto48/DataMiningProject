{
 "cells": [
  {
   "cell_type": "code",
   "execution_count": 1,
   "metadata": {},
   "outputs": [],
   "source": [
    "from dmml_project.dataset import Dataset\n",
    "from dmml_project import PROJECT_ROOT, CLASSES\n",
    "import numpy as np\n",
    "from matplotlib import pyplot as plt\n",
    "from tqdm.auto import tqdm\n"
   ]
  },
  {
   "cell_type": "code",
   "execution_count": 2,
   "metadata": {},
   "outputs": [
    {
     "name": "stderr",
     "output_type": "stream",
     "text": [
      "Iterations:   0%|          | 0/10 [00:00<?, ?it/s]"
     ]
    },
    {
     "name": "stderr",
     "output_type": "stream",
     "text": [
      "Iterations: 100%|██████████| 10/10 [06:23<00:00, 38.34s/it]\n"
     ]
    },
    {
     "data": {
      "image/png": "[encoded data removed]",
      "text/plain": [
       "<Figure size 640x480 with 1 Axes>"
      ]
     },
     "metadata": {},
     "output_type": "display_data"
    }
   ],
   "source": [
    "FOLDS = 6\n",
    "\n",
    "class_max_abs_diff = [0 for _ in CLASSES]\n",
    "\n",
    "for i in tqdm(range(10), desc=\"Iterations\"):\n",
    "    valids = []\n",
    "    ds: Dataset = Dataset.load(f\"{PROJECT_ROOT}/data/train.tsv\")\n",
    "    for i in range(FOLDS):\n",
    "        train, valid = ds.sfold(i, FOLDS)\n",
    "        valids.append(valid)\n",
    "        train_size = len(train)\n",
    "        valid_size = len(valid)\n",
    "        \n",
    "        train_class_distribution = train.data[\"label\"].value_counts()\n",
    "        valid_class_distribution = valid.data[\"label\"].value_counts()\n",
    "        \n",
    "        \n",
    "        class_abs_diff = []\n",
    "        for c in CLASSES:\n",
    "            train_class_count = train_class_distribution.get(c, 0)\n",
    "            valid_class_count = valid_class_distribution.get(c, 0)\n",
    "            class_abs_diff.append(np.abs(train_class_count / train_size - valid_class_count / valid_size))\n",
    "\n",
    "        class_max_abs_diff = np.maximum(class_max_abs_diff, class_abs_diff)    \n",
    "        \n",
    "        # check overlap\n",
    "        train_x_set = set(train.data[\"text\"])\n",
    "        valid_x_set = set(valid.data[\"text\"])\n",
    "        overlap = train_x_set.intersection(valid_x_set)\n",
    "        assert len(overlap) == 0, f\"Overlap: {len(overlap)}\"\n",
    "\n",
    "    for i in range(FOLDS):\n",
    "        for j in range(i + 1, FOLDS):\n",
    "            valid_x_set_i = set(valids[i].data[\"text\"])\n",
    "            valid_x_set_j = set(valids[j].data[\"text\"])\n",
    "            overlap = valid_x_set_i.intersection(valid_x_set_j)\n",
    "            assert len(overlap) == 0, f\"Overlap: {len(overlap)}\"\n",
    "        \n",
    "\n",
    "# old max = 0.0040\n",
    "# new max = 0.000012\n",
    "plt.bar(CLASSES, class_max_abs_diff)\n",
    "plt.show()    \n",
    "        "
   ]
  }
 ],
 "metadata": {
  "kernelspec": {
   "display_name": "Python 3",
   "language": "python",
   "name": "python3"
  },
  "language_info": {
   "codemirror_mode": {
    "name": "ipython",
    "version": 3
   },
   "file_extension": ".py",
   "mimetype": "text/x-python",
   "name": "python",
   "nbconvert_exporter": "python",
   "pygments_lexer": "ipython3",
   "version": "3.12.4"
  }
 },
 "nbformat": 4,
 "nbformat_minor": 2
}
