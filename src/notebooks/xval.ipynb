{
 "cells": [
  {
   "cell_type": "code",
   "execution_count": null,
   "metadata": {},
   "outputs": [],
   "source": [
    "from dmml_project.models.create_model import create_model\n",
    "import sklearn.metrics as metrics\n",
    "from dmml_project.models.model import Model\n",
    "from dmml_project import PROJECT_ROOT\n",
    "from dmml_project.dataset import Dataset\n",
    "import matplotlib.pyplot as plt\n",
    "import numpy as np\n",
    "import seaborn as sns\n",
    "\n",
    "KIND = \"neural_network\"\n",
    "\n",
    "dataset: Dataset = Dataset.load(f\"{PROJECT_ROOT}/data/crowdflower.tsv\")\n",
    "model: Model = create_model(kind=KIND, encoding=\"tfidf\", base_size=16, depth=3)"
   ]
  },
  {
   "cell_type": "code",
   "execution_count": null,
   "metadata": {},
   "outputs": [],
   "source": [
    "train, valid = dataset.fold(0, 5)\n",
    "history = model.train(train, valid=valid)\n",
    "accuracy, cm = model.evaluate(valid, metric=lambda pred, true: (metrics.accuracy_score(pred,true), metrics.confusion_matrix(pred,true, normalize=\"true\")))"
   ]
  },
  {
   "cell_type": "code",
   "execution_count": null,
   "metadata": {},
   "outputs": [],
   "source": [
    "if KIND == \"neural_network\":\n",
    "    train_accuracy, valid_accuracy = history\n",
    "    plt.plot(train_accuracy, label=\"train\")\n",
    "    plt.plot(valid_accuracy, label=\"valid\")\n",
    "    plt.legend()\n",
    "    plt.show()"
   ]
  },
  {
   "cell_type": "code",
   "execution_count": null,
   "metadata": {},
   "outputs": [],
   "source": [
    "print(f\"Accuracy: {accuracy*100:.2f}%\")\n",
    "sns.heatmap(cm, annot=True, cmap=\"Blues\", fmt=\".2f\", annot_kws={\"size\": 9}, xticklabels=model.classes(), yticklabels=model.classes())\n",
    "plt.xlabel(\"Predicted\")\n",
    "plt.ylabel(\"True\")\n",
    "plt.title(\"Confusion Matrix\")\n",
    "plt.show()"
   ]
  }
 ],
 "metadata": {
  "kernelspec": {
   "display_name": "Python 3",
   "language": "python",
   "name": "python3"
  },
  "language_info": {
   "codemirror_mode": {
    "name": "ipython",
    "version": 3
   },
   "file_extension": ".py",
   "mimetype": "text/x-python",
   "name": "python",
   "nbconvert_exporter": "python",
   "pygments_lexer": "ipython3",
   "version": "3.12.4"
  }
 },
 "nbformat": 4,
 "nbformat_minor": 2
}
