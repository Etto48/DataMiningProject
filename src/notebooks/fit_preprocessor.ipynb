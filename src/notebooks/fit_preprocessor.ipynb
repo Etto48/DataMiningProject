{
 "cells": [
  {
   "cell_type": "markdown",
   "metadata": {},
   "source": [
    "# Fit preprocessors"
   ]
  },
  {
   "cell_type": "markdown",
   "metadata": {},
   "source": [
    "## Import libraries and load data"
   ]
  },
  {
   "cell_type": "code",
   "execution_count": 1,
   "metadata": {},
   "outputs": [],
   "source": [
    "from dmml_project.dataset import Dataset\n",
    "from dmml_project.preprocessor import Preprocessor\n",
    "from dmml_project import PROJECT_ROOT\n",
    "\n",
    "dataset = Dataset.load(f\"{PROJECT_ROOT}/data/crowdflower.tsv\")\n",
    "tfidf_preprocessor = Preprocessor(kind=\"tfidf\")\n",
    "count_preprocessor = Preprocessor(kind=\"count\")\n",
    "binary_preprocessor = Preprocessor(kind=\"binary\")"
   ]
  },
  {
   "cell_type": "markdown",
   "metadata": {},
   "source": [
    "## Fit preprocessors on training data"
   ]
  },
  {
   "cell_type": "code",
   "execution_count": 2,
   "metadata": {},
   "outputs": [],
   "source": [
    "text = dataset.get_x()\n",
    "tfidf_preprocessor.fit(text)\n",
    "count_preprocessor.fit(text)\n",
    "binary_preprocessor.fit(text)"
   ]
  },
  {
   "cell_type": "markdown",
   "metadata": {},
   "source": [
    "## Save preprocessors"
   ]
  },
  {
   "cell_type": "code",
   "execution_count": 3,
   "metadata": {},
   "outputs": [],
   "source": [
    "tfidf_preprocessor.save(f\"{PROJECT_ROOT}/data/preprocessor/tfidf.pkl\")\n",
    "count_preprocessor.save(f\"{PROJECT_ROOT}/data/preprocessor/count.pkl\")\n",
    "binary_preprocessor.save(f\"{PROJECT_ROOT}/data/preprocessor/binary.pkl\")"
   ]
  },
  {
   "cell_type": "markdown",
   "metadata": {},
   "source": [
    "## A little demo and some info"
   ]
  },
  {
   "cell_type": "code",
   "execution_count": 4,
   "metadata": {},
   "outputs": [
    {
     "name": "stdout",
     "output_type": "stream",
     "text": [
      "23794\n",
      "23794\n",
      "23794\n",
      "@battle4acure Hey!    Good AM to you too!\n",
      "  (0, 8815)\t1\n",
      "  (0, 9753)\t1\n"
     ]
    }
   ],
   "source": [
    "print(len(tfidf_preprocessor.vectorizer.vocabulary_))\n",
    "print(len(count_preprocessor.vectorizer.vocabulary_))\n",
    "print(len(binary_preprocessor.vectorizer.vocabulary_))\n",
    "\n",
    "print(text[0])\n",
    "print(count_preprocessor([text[0]]))"
   ]
  }
 ],
 "metadata": {
  "kernelspec": {
   "display_name": ".venv",
   "language": "python",
   "name": "python3"
  },
  "language_info": {
   "codemirror_mode": {
    "name": "ipython",
    "version": 3
   },
   "file_extension": ".py",
   "mimetype": "text/x-python",
   "name": "python",
   "nbconvert_exporter": "python",
   "pygments_lexer": "ipython3",
   "version": "3.12.4"
  }
 },
 "nbformat": 4,
 "nbformat_minor": 2
}
