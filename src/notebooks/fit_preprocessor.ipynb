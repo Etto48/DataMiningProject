{
 "cells": [
  {
   "cell_type": "markdown",
   "metadata": {},
   "source": [
    "# Fit preprocessors"
   ]
  },
  {
   "cell_type": "markdown",
   "metadata": {},
   "source": [
    "## Import libraries and load data"
   ]
  },
  {
   "cell_type": "code",
   "execution_count": 1,
   "metadata": {},
   "outputs": [],
   "source": [
    "from dmml_project.dataset import Dataset\n",
    "from dmml_project.preprocessor import Preprocessor\n",
    "from dmml_project import PROJECT_ROOT\n",
    "\n",
    "dataset = Dataset.load(f\"{PROJECT_ROOT}/data/train.tsv\")\n",
    "tfidf_preprocessor = Preprocessor(kind=\"tfidf\")\n",
    "count_preprocessor = Preprocessor(kind=\"count\")\n",
    "binary_preprocessor = Preprocessor(kind=\"binary\")"
   ]
  },
  {
   "cell_type": "markdown",
   "metadata": {},
   "source": [
    "An example of the preprocessing without vectorization is shown below."
   ]
  },
  {
   "cell_type": "code",
   "execution_count": 2,
   "metadata": {},
   "outputs": [
    {
     "name": "stdout",
     "output_type": "stream",
     "text": [
      "i feel solemn if its too much to ask\n",
      "i feel solemn if it too much to ask\n",
      "\n",
      "i shouldnt feel that way about myself and i know its pathetic that i do\n",
      "i shouldnt feel that way about myself and i know it pathet that i do\n",
      "\n",
      "i was yelping in pain during the process when he was pressing the accupoints but i came out feeling quite invigorated\n",
      "i was yelp in pain dure the process when he was press the accupoint but i came out feel quit invigor\n",
      "\n",
      "i feel like there s a better me trapped inside\n",
      "i feel like there s a better me trap insid\n",
      "\n",
      "i feel strangely shy around him\n",
      "i feel strang shi around him\n",
      "\n"
     ]
    }
   ],
   "source": [
    "examples = dataset.data[\"text\"][:5]\n",
    "for example in examples:\n",
    "    print(example)\n",
    "    print(count_preprocessor._preprocess_text(example))\n",
    "    print()"
   ]
  },
  {
   "cell_type": "markdown",
   "metadata": {},
   "source": [
    "## Fit preprocessors on training data"
   ]
  },
  {
   "cell_type": "code",
   "execution_count": 3,
   "metadata": {},
   "outputs": [
    {
     "name": "stderr",
     "output_type": "stream",
     "text": [
      "Preprocessing data:   0%|          | 0/346921 [00:00<?, ?it/s]"
     ]
    },
    {
     "name": "stderr",
     "output_type": "stream",
     "text": [
      "Preprocessing data: 100%|██████████| 346921/346921 [00:38<00:00, 9107.13it/s] \n",
      "Preprocessing data: 100%|██████████| 346921/346921 [00:41<00:00, 8269.73it/s]\n",
      "Preprocessing data: 100%|██████████| 346921/346921 [00:36<00:00, 9635.71it/s] \n"
     ]
    }
   ],
   "source": [
    "text = dataset.get_x()\n",
    "tfidf_preprocessor.fit(text)\n",
    "count_preprocessor.fit(text)\n",
    "binary_preprocessor.fit(text)"
   ]
  },
  {
   "cell_type": "markdown",
   "metadata": {},
   "source": [
    "## Save preprocessors"
   ]
  },
  {
   "cell_type": "code",
   "execution_count": 4,
   "metadata": {},
   "outputs": [],
   "source": [
    "tfidf_preprocessor.save(f\"{PROJECT_ROOT}/data/preprocessor/tfidf.pkl\")\n",
    "count_preprocessor.save(f\"{PROJECT_ROOT}/data/preprocessor/count.pkl\")\n",
    "binary_preprocessor.save(f\"{PROJECT_ROOT}/data/preprocessor/binary.pkl\")"
   ]
  },
  {
   "cell_type": "markdown",
   "metadata": {},
   "source": [
    "## A little demo and some info"
   ]
  },
  {
   "cell_type": "code",
   "execution_count": 5,
   "metadata": {},
   "outputs": [
    {
     "name": "stdout",
     "output_type": "stream",
     "text": [
      "53682\n",
      "53682\n",
      "53682\n",
      "i feel solemn if its too much to ask\n",
      "i feel solemn if it too much to ask\n",
      "  (0, 2650)\t1\n",
      "  (0, 15738)\t1\n",
      "  (0, 30782)\t1\n",
      "  (0, 43227)\t1\n"
     ]
    }
   ],
   "source": [
    "print(len(tfidf_preprocessor.vectorizer.vocabulary_))\n",
    "print(len(count_preprocessor.vectorizer.vocabulary_))\n",
    "print(len(binary_preprocessor.vectorizer.vocabulary_))\n",
    "\n",
    "print(text[0])\n",
    "print(count_preprocessor._preprocess_text(text[0]))\n",
    "print(count_preprocessor([text[0]]))"
   ]
  }
 ],
 "metadata": {
  "kernelspec": {
   "display_name": ".venv",
   "language": "python",
   "name": "python3"
  },
  "language_info": {
   "codemirror_mode": {
    "name": "ipython",
    "version": 3
   },
   "file_extension": ".py",
   "mimetype": "text/x-python",
   "name": "python",
   "nbconvert_exporter": "python",
   "pygments_lexer": "ipython3",
   "version": "3.12.4"
  }
 },
 "nbformat": 4,
 "nbformat_minor": 2
}
