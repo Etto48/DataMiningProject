{
 "cells": [
  {
   "cell_type": "markdown",
   "metadata": {},
   "source": [
    "# Fit preprocessors"
   ]
  },
  {
   "cell_type": "markdown",
   "metadata": {},
   "source": [
    "## Import libraries and load data"
   ]
  },
  {
   "cell_type": "code",
   "execution_count": 1,
   "metadata": {},
   "outputs": [],
   "source": [
    "from dmml_project.dataset import Dataset\n",
    "from dmml_project.preprocessor import Preprocessor\n",
    "from dmml_project import PROJECT_ROOT\n",
    "\n",
    "dataset = Dataset.load(f\"{PROJECT_ROOT}/data/train.tsv\")\n",
    "tfidf_preprocessor = Preprocessor(kind=\"tfidf\")\n",
    "count_preprocessor = Preprocessor(kind=\"count\")\n",
    "binary_preprocessor = Preprocessor(kind=\"binary\")"
   ]
  },
  {
   "cell_type": "markdown",
   "metadata": {},
   "source": [
    "## Fit preprocessors on training data"
   ]
  },
  {
   "cell_type": "code",
   "execution_count": 2,
   "metadata": {},
   "outputs": [
    {
     "name": "stderr",
     "output_type": "stream",
     "text": [
      "Preprocessing data: 100%|██████████| 456809/456809 [03:26<00:00, 2216.68it/s]\n",
      "Preprocessing data: 100%|██████████| 456809/456809 [03:34<00:00, 2132.56it/s]\n",
      "Preprocessing data: 100%|██████████| 456809/456809 [02:53<00:00, 2627.39it/s]\n"
     ]
    }
   ],
   "source": [
    "text = dataset.get_x()\n",
    "tfidf_preprocessor.fit(text)\n",
    "count_preprocessor.fit(text)\n",
    "binary_preprocessor.fit(text)"
   ]
  },
  {
   "cell_type": "markdown",
   "metadata": {},
   "source": [
    "## Save preprocessors"
   ]
  },
  {
   "cell_type": "code",
   "execution_count": 3,
   "metadata": {},
   "outputs": [],
   "source": [
    "tfidf_preprocessor.save(f\"{PROJECT_ROOT}/data/preprocessor/tfidf.pkl\")\n",
    "count_preprocessor.save(f\"{PROJECT_ROOT}/data/preprocessor/count.pkl\")\n",
    "binary_preprocessor.save(f\"{PROJECT_ROOT}/data/preprocessor/binary.pkl\")"
   ]
  },
  {
   "cell_type": "markdown",
   "metadata": {},
   "source": [
    "## A little demo and some info"
   ]
  },
  {
   "cell_type": "code",
   "execution_count": 4,
   "metadata": {},
   "outputs": [
    {
     "name": "stdout",
     "output_type": "stream",
     "text": [
      "61930\n",
      "61930\n",
      "61930\n",
      "i guess but still to feel that im useless hopeless to my boyfriend when he is down is really a insert word that whatever fits the content here hais\n",
      "i guess but still to feel that im useless hopeless to my boyfriend when he is down is realli a insert word that whatev fit the content here hai\n",
      "  (0, 7366)\t1\n",
      "  (0, 11706)\t1\n",
      "  (0, 18693)\t1\n",
      "  (0, 19233)\t1\n",
      "  (0, 22757)\t1\n",
      "  (0, 23124)\t1\n",
      "  (0, 24944)\t1\n",
      "  (0, 25979)\t1\n",
      "  (0, 26675)\t1\n",
      "  (0, 44099)\t1\n",
      "  (0, 51351)\t1\n",
      "  (0, 57646)\t1\n",
      "  (0, 59568)\t1\n",
      "  (0, 60443)\t1\n"
     ]
    }
   ],
   "source": [
    "print(len(tfidf_preprocessor.vectorizer.vocabulary_))\n",
    "print(len(count_preprocessor.vectorizer.vocabulary_))\n",
    "print(len(binary_preprocessor.vectorizer.vocabulary_))\n",
    "\n",
    "print(text[0])\n",
    "print(count_preprocessor._preprocess_text(text[0]))\n",
    "print(count_preprocessor([text[0]]))"
   ]
  }
 ],
 "metadata": {
  "kernelspec": {
   "display_name": ".venv",
   "language": "python",
   "name": "python3"
  },
  "language_info": {
   "codemirror_mode": {
    "name": "ipython",
    "version": 3
   },
   "file_extension": ".py",
   "mimetype": "text/x-python",
   "name": "python",
   "nbconvert_exporter": "python",
   "pygments_lexer": "ipython3",
   "version": "3.12.4"
  }
 },
 "nbformat": 4,
 "nbformat_minor": 2
}
