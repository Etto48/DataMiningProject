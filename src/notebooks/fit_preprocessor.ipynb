{
 "cells": [
  {
   "cell_type": "markdown",
   "metadata": {},
   "source": [
    "# Fit preprocessors"
   ]
  },
  {
   "cell_type": "markdown",
   "metadata": {},
   "source": [
    "## Import libraries and load data"
   ]
  },
  {
   "cell_type": "code",
   "execution_count": 1,
   "metadata": {},
   "outputs": [],
   "source": [
    "from dmml_project.dataset import Dataset\n",
    "from dmml_project.preprocessor import Preprocessor\n",
    "from dmml_project import PROJECT_ROOT\n",
    "\n",
    "dataset = Dataset.load(f\"{PROJECT_ROOT}/data/train.tsv\")\n",
    "tfidf_preprocessor = Preprocessor(kind=\"tfidf\")\n",
    "count_preprocessor = Preprocessor(kind=\"count\")\n",
    "binary_preprocessor = Preprocessor(kind=\"binary\")"
   ]
  },
  {
   "cell_type": "markdown",
   "metadata": {},
   "source": [
    "An example of the preprocessing without vectorization is shown below."
   ]
  },
  {
   "cell_type": "code",
   "execution_count": 2,
   "metadata": {},
   "outputs": [
    {
     "name": "stdout",
     "output_type": "stream",
     "text": [
      "i have a love hate relationship with it really nice product but made my lips feel miserable for a while\n",
      "i have a love hate relationship with it realli nice product but made my lip feel miser for a while\n",
      "\n",
      "i lay down in my bed feeling completely groggy with all the medicine\n",
      "i lay down in my bed feel complet groggi with all the medicin\n",
      "\n",
      "i remember feeling very uncertain at that time about what would happen next and i knew it was going to bring something unexpected my way but i didnt know what\n",
      "i rememb feel veri uncertain at that time about what would happen next and i knew it was go to bring someth unexpect my way but i didnt know what\n",
      "\n",
      "i even feel like my life is honestly worthless and plus i feel as being skinny as iam doesnt help\n",
      "i even feel like my life is honest worthless and plus i feel as be skinni as iam doesnt help\n",
      "\n",
      "i had basically chopped them down with a machete which could both leave him feeling rejected and leave me with the opposite of what i want\n",
      "i had basic chop them down with a machet which could both leav him feel reject and leav me with the opposit of what i want\n",
      "\n"
     ]
    }
   ],
   "source": [
    "examples = dataset.data[\"text\"][:5]\n",
    "for example in examples:\n",
    "    print(example)\n",
    "    print(count_preprocessor._preprocess_text(example))\n",
    "    print()"
   ]
  },
  {
   "cell_type": "markdown",
   "metadata": {},
   "source": [
    "## Fit preprocessors on training data"
   ]
  },
  {
   "cell_type": "code",
   "execution_count": 3,
   "metadata": {},
   "outputs": [
    {
     "name": "stderr",
     "output_type": "stream",
     "text": [
      "Preprocessing data:   0%|          | 0/365447 [00:00<?, ?it/s]"
     ]
    },
    {
     "name": "stderr",
     "output_type": "stream",
     "text": [
      "Preprocessing data: 100%|██████████| 365447/365447 [01:12<00:00, 5070.97it/s]\n",
      "Preprocessing data: 100%|██████████| 365447/365447 [01:13<00:00, 4999.92it/s]\n",
      "Preprocessing data: 100%|██████████| 365447/365447 [01:12<00:00, 5053.21it/s]\n"
     ]
    }
   ],
   "source": [
    "text = dataset.get_x()\n",
    "tfidf_preprocessor.fit(text)\n",
    "count_preprocessor.fit(text)\n",
    "binary_preprocessor.fit(text)"
   ]
  },
  {
   "cell_type": "markdown",
   "metadata": {},
   "source": [
    "## Save preprocessors"
   ]
  },
  {
   "cell_type": "code",
   "execution_count": 4,
   "metadata": {},
   "outputs": [],
   "source": [
    "tfidf_preprocessor.save(f\"{PROJECT_ROOT}/data/preprocessor/tfidf.pkl\")\n",
    "count_preprocessor.save(f\"{PROJECT_ROOT}/data/preprocessor/count.pkl\")\n",
    "binary_preprocessor.save(f\"{PROJECT_ROOT}/data/preprocessor/binary.pkl\")"
   ]
  },
  {
   "cell_type": "markdown",
   "metadata": {},
   "source": [
    "## A little demo and some info"
   ]
  },
  {
   "cell_type": "code",
   "execution_count": 5,
   "metadata": {},
   "outputs": [
    {
     "name": "stdout",
     "output_type": "stream",
     "text": [
      "53951\n",
      "53951\n",
      "53951\n",
      "i have a love hate relationship with it really nice product but made my lips feel miserable for a while\n",
      "i have a love hate relationship with it realli nice product but made my lip feel miser for a while\n",
      "  (0, 15793)\t1\n",
      "  (0, 20103)\t1\n",
      "  (0, 26948)\t1\n",
      "  (0, 27505)\t1\n",
      "  (0, 27967)\t1\n",
      "  (0, 29977)\t1\n",
      "  (0, 32105)\t1\n",
      "  (0, 36934)\t1\n",
      "  (0, 38232)\t1\n",
      "  (0, 38693)\t1\n"
     ]
    }
   ],
   "source": [
    "print(len(tfidf_preprocessor.vectorizer.vocabulary_))\n",
    "print(len(count_preprocessor.vectorizer.vocabulary_))\n",
    "print(len(binary_preprocessor.vectorizer.vocabulary_))\n",
    "\n",
    "print(text[0])\n",
    "print(count_preprocessor._preprocess_text(text[0]))\n",
    "print(count_preprocessor([text[0]]))"
   ]
  }
 ],
 "metadata": {
  "kernelspec": {
   "display_name": ".venv",
   "language": "python",
   "name": "python3"
  },
  "language_info": {
   "codemirror_mode": {
    "name": "ipython",
    "version": 3
   },
   "file_extension": ".py",
   "mimetype": "text/x-python",
   "name": "python",
   "nbconvert_exporter": "python",
   "pygments_lexer": "ipython3",
   "version": "3.12.4"
  }
 },
 "nbformat": 4,
 "nbformat_minor": 2
}
