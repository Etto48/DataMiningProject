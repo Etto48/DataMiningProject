{
 "cells": [
  {
   "cell_type": "markdown",
   "metadata": {},
   "source": [
    "# Fit preprocessors"
   ]
  },
  {
   "cell_type": "markdown",
   "metadata": {},
   "source": [
    "## Import libraries and load data"
   ]
  },
  {
   "cell_type": "code",
   "execution_count": 1,
   "metadata": {},
   "outputs": [],
   "source": [
    "from dmml_project.dataset import Dataset\n",
    "from dmml_project.preprocessor import Preprocessor\n",
    "from dmml_project import PROJECT_ROOT\n",
    "\n",
    "dataset = Dataset.load(f\"{PROJECT_ROOT}/data/train.tsv\")\n",
    "tfidf_preprocessor = Preprocessor(kind=\"tfidf\")\n",
    "count_preprocessor = Preprocessor(kind=\"count\")\n",
    "binary_preprocessor = Preprocessor(kind=\"binary\")"
   ]
  },
  {
   "cell_type": "markdown",
   "metadata": {},
   "source": [
    "An example of the preprocessing without vectorization is shown below."
   ]
  },
  {
   "cell_type": "code",
   "execution_count": 2,
   "metadata": {},
   "outputs": [
    {
     "name": "stdout",
     "output_type": "stream",
     "text": [
      "i have a feeling that city rules of delicate speech wont be as practical out here said rasa\n",
      "i have a feel that citi rule of delic speech wont be as practic out here said rasa\n",
      "\n",
      "i love gift baskets in general and for weddings they are a fun way to give things that they need and want without feeling like your gift is boring\n",
      "i love gift basket in general and for wed they are a fun way to give thing that they need and want without feel like your gift is bore\n",
      "\n",
      "i know no one is reading this and because i feel the need to be sentimental dear brother you are one of the most important people in my life\n",
      "i know no one is read this and becaus i feel the need to be sentiment dear brother you are one of the most import peopl in my life\n",
      "\n",
      "i had a feeling that daisy s could look cute and age ap\n",
      "i had a feel that daisi s could look cute and age ap\n",
      "\n",
      "i almost feel that louise is so eager to overcome her gilligans island typecasting and demonstrate what she is capable of that shes like a horse thats out of its gate before its ready to hit the track\n",
      "i almost feel that louis is so eager to overcom her gilligan island typecast and demonstr what she is capabl of that shes like a hors that out of it gate befor it readi to hit the track\n",
      "\n"
     ]
    }
   ],
   "source": [
    "examples = dataset.data[\"text\"][:5]\n",
    "for example in examples:\n",
    "    print(example)\n",
    "    print(count_preprocessor._preprocess_text(example))\n",
    "    print()"
   ]
  },
  {
   "cell_type": "markdown",
   "metadata": {},
   "source": [
    "## Fit preprocessors on training data"
   ]
  },
  {
   "cell_type": "code",
   "execution_count": 3,
   "metadata": {},
   "outputs": [
    {
     "name": "stderr",
     "output_type": "stream",
     "text": [
      "Preprocessing data: 100%|██████████| 365447/365447 [01:20<00:00, 4550.16it/s]\n",
      "Preprocessing data: 100%|██████████| 365447/365447 [01:16<00:00, 4791.11it/s]\n",
      "Preprocessing data: 100%|██████████| 365447/365447 [01:15<00:00, 4815.87it/s]\n"
     ]
    }
   ],
   "source": [
    "text = dataset.get_x()\n",
    "tfidf_preprocessor.fit(text)\n",
    "count_preprocessor.fit(text)\n",
    "binary_preprocessor.fit(text)"
   ]
  },
  {
   "cell_type": "markdown",
   "metadata": {},
   "source": [
    "## Save preprocessors"
   ]
  },
  {
   "cell_type": "code",
   "execution_count": 4,
   "metadata": {},
   "outputs": [],
   "source": [
    "tfidf_preprocessor.save(f\"{PROJECT_ROOT}/data/preprocessor/tfidf.pkl\")\n",
    "count_preprocessor.save(f\"{PROJECT_ROOT}/data/preprocessor/count.pkl\")\n",
    "binary_preprocessor.save(f\"{PROJECT_ROOT}/data/preprocessor/binary.pkl\")"
   ]
  },
  {
   "cell_type": "markdown",
   "metadata": {},
   "source": [
    "## A little demo and some info"
   ]
  },
  {
   "cell_type": "code",
   "execution_count": 5,
   "metadata": {},
   "outputs": [
    {
     "name": "stdout",
     "output_type": "stream",
     "text": [
      "53976\n",
      "53976\n",
      "53976\n",
      "i have a feeling that city rules of delicate speech wont be as practical out here said rasa\n",
      "i have a feel that citi rule of delic speech wont be as practic out here said rasa\n",
      "  (0, 8504)\t1\n",
      "  (0, 11450)\t1\n",
      "  (0, 15802)\t1\n",
      "  (0, 36508)\t1\n",
      "  (0, 38053)\t1\n",
      "  (0, 39976)\t1\n",
      "  (0, 40248)\t1\n",
      "  (0, 43880)\t1\n",
      "  (0, 52591)\t1\n"
     ]
    }
   ],
   "source": [
    "print(len(tfidf_preprocessor.vectorizer.vocabulary_))\n",
    "print(len(count_preprocessor.vectorizer.vocabulary_))\n",
    "print(len(binary_preprocessor.vectorizer.vocabulary_))\n",
    "\n",
    "print(text[0])\n",
    "print(count_preprocessor._preprocess_text(text[0]))\n",
    "print(count_preprocessor([text[0]]))"
   ]
  }
 ],
 "metadata": {
  "kernelspec": {
   "display_name": ".venv",
   "language": "python",
   "name": "python3"
  },
  "language_info": {
   "codemirror_mode": {
    "name": "ipython",
    "version": 3
   },
   "file_extension": ".py",
   "mimetype": "text/x-python",
   "name": "python",
   "nbconvert_exporter": "python",
   "pygments_lexer": "ipython3",
   "version": "3.12.4"
  }
 },
 "nbformat": 4,
 "nbformat_minor": 2
}
