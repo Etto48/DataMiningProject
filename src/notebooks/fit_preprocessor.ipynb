{
 "cells": [
  {
   "cell_type": "markdown",
   "metadata": {},
   "source": [
    "# Fit preprocessors"
   ]
  },
  {
   "cell_type": "markdown",
   "metadata": {},
   "source": [
    "## Import libraries and load data"
   ]
  },
  {
   "cell_type": "code",
   "execution_count": 1,
   "metadata": {},
   "outputs": [],
   "source": [
    "from dmml_project.dataset import Dataset\n",
    "from dmml_project.preprocessor import Preprocessor\n",
    "from dmml_project import PROJECT_ROOT\n",
    "\n",
    "dataset = Dataset.load(f\"{PROJECT_ROOT}/data/train.tsv\")\n",
    "tfidf_preprocessor = Preprocessor(kind=\"tfidf\")\n",
    "count_preprocessor = Preprocessor(kind=\"count\")\n",
    "binary_preprocessor = Preprocessor(kind=\"binary\")"
   ]
  },
  {
   "cell_type": "markdown",
   "metadata": {},
   "source": [
    "An example of the preprocessing without vectorization is shown below."
   ]
  },
  {
   "cell_type": "code",
   "execution_count": 2,
   "metadata": {},
   "outputs": [
    {
     "name": "stdout",
     "output_type": "stream",
     "text": [
      "i like the fact that she doesn t feel the need to wrap up everything neatly but rather let life be messy and real\n",
      "i like the fact that she doesn t feel the need to wrap up everyth neat but rather let life be messi and real\n",
      "\n",
      "i do not feel worthless and it is not because i do not have the appropriate support system or love surrounding me because i can assure you i do\n",
      "i do not feel worthless and it is not becaus i do not have the appropri support system or love surround me becaus i can assur you i do\n",
      "\n",
      "i am thankful for sweet sarah who makes the crew feel special and smile so much\n",
      "i am thank for sweet sarah who make the crew feel special and smile so much\n",
      "\n",
      "i hate feeling this way im alone i don t have anyone to talk to no one would freakin understand\n",
      "i hate feel this way im alon i don t have anyon to talk to no one would freakin understand\n",
      "\n",
      "i feel loyal to this person\n",
      "i feel loyal to this person\n",
      "\n"
     ]
    }
   ],
   "source": [
    "examples = dataset.data[\"text\"][:5]\n",
    "for example in examples:\n",
    "    print(example)\n",
    "    print(count_preprocessor._preprocess_text(example))\n",
    "    print()"
   ]
  },
  {
   "cell_type": "markdown",
   "metadata": {},
   "source": [
    "## Fit preprocessors on training data"
   ]
  },
  {
   "cell_type": "code",
   "execution_count": 3,
   "metadata": {},
   "outputs": [
    {
     "name": "stderr",
     "output_type": "stream",
     "text": [
      "Preprocessing data: 100%|██████████| 346921/346921 [00:42<00:00, 8124.87it/s]\n",
      "Preprocessing data: 100%|██████████| 346921/346921 [00:42<00:00, 8252.90it/s]\n",
      "Preprocessing data: 100%|██████████| 346921/346921 [00:41<00:00, 8362.04it/s]\n"
     ]
    }
   ],
   "source": [
    "text = dataset.get_x()\n",
    "tfidf_preprocessor.fit(text)\n",
    "count_preprocessor.fit(text)\n",
    "binary_preprocessor.fit(text)"
   ]
  },
  {
   "cell_type": "markdown",
   "metadata": {},
   "source": [
    "## Save preprocessors"
   ]
  },
  {
   "cell_type": "code",
   "execution_count": 4,
   "metadata": {},
   "outputs": [],
   "source": [
    "tfidf_preprocessor.save(f\"{PROJECT_ROOT}/data/preprocessor/tfidf.pkl\")\n",
    "count_preprocessor.save(f\"{PROJECT_ROOT}/data/preprocessor/count.pkl\")\n",
    "binary_preprocessor.save(f\"{PROJECT_ROOT}/data/preprocessor/binary.pkl\")"
   ]
  },
  {
   "cell_type": "markdown",
   "metadata": {},
   "source": [
    "## A little demo and some info"
   ]
  },
  {
   "cell_type": "code",
   "execution_count": 5,
   "metadata": {},
   "outputs": [
    {
     "name": "stdout",
     "output_type": "stream",
     "text": [
      "53682\n",
      "53682\n",
      "53682\n",
      "i like the fact that she doesn t feel the need to wrap up everything neatly but rather let life be messy and real\n",
      "i like the fact that she doesn t feel the need to wrap up everyth neat but rather let life be messi and real\n",
      "<Compressed Sparse Row sparse matrix of dtype 'int64'\n",
      "\twith 12 stored elements and shape (1, 53682)>\n",
      "  Coords\tValues\n",
      "  (0, 14905)\t1\n",
      "  (0, 15339)\t1\n",
      "  (0, 15738)\t1\n",
      "  (0, 26433)\t1\n",
      "  (0, 26598)\t1\n",
      "  (0, 26671)\t1\n",
      "  (0, 29289)\t1\n",
      "  (0, 31597)\t1\n",
      "  (0, 31636)\t1\n",
      "  (0, 37896)\t1\n",
      "  (0, 38037)\t1\n",
      "  (0, 52544)\t1\n"
     ]
    }
   ],
   "source": [
    "print(len(tfidf_preprocessor.vectorizer.vocabulary_))\n",
    "print(len(count_preprocessor.vectorizer.vocabulary_))\n",
    "print(len(binary_preprocessor.vectorizer.vocabulary_))\n",
    "\n",
    "print(text[0])\n",
    "print(count_preprocessor._preprocess_text(text[0]))\n",
    "print(count_preprocessor([text[0]]))"
   ]
  }
 ],
 "metadata": {
  "kernelspec": {
   "display_name": ".venv",
   "language": "python",
   "name": "python3"
  },
  "language_info": {
   "codemirror_mode": {
    "name": "ipython",
    "version": 3
   },
   "file_extension": ".py",
   "mimetype": "text/x-python",
   "name": "python",
   "nbconvert_exporter": "python",
   "pygments_lexer": "ipython3",
   "version": "3.12.3"
  }
 },
 "nbformat": 4,
 "nbformat_minor": 2
}
