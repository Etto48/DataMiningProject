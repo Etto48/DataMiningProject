{
 "cells": [
  {
   "cell_type": "code",
   "execution_count": 1,
   "metadata": {},
   "outputs": [],
   "source": [
    "from dmml_project.dataset import Dataset\n",
    "from dmml_project import PROJECT_ROOT\n",
    "\n",
    "test: Dataset = Dataset.load(f\"{PROJECT_ROOT}/data/test.tsv\")\n",
    "crowdflower: Dataset = Dataset.load(f\"{PROJECT_ROOT}/data/crowdflower.tsv\")\n"
   ]
  },
  {
   "cell_type": "code",
   "execution_count": 2,
   "metadata": {},
   "outputs": [],
   "source": [
    "# calculate the intersection of the two datasets\n",
    "test_set = set()\n",
    "crowdflower_set = set()\n",
    "\n",
    "test.data[\"text\"].apply(lambda x: test_set.add(x))\n",
    "crowdflower.data[\"text\"].apply(lambda x: crowdflower_set.add(x))\n",
    "\n",
    "intersection = test_set.intersection(crowdflower_set)\n",
    "\n",
    "intersection_df = crowdflower.data.loc[crowdflower.data[\"text\"].isin(intersection)]\n",
    "intersection_dataset = Dataset()\n",
    "intersection_dataset.data = intersection_df\n",
    "\n",
    "class_mappings = {\n",
    "    \"happiness\": \"happiness\",\n",
    "    \"sadness\": \"sadness\",\n",
    "    \"anger\": \"anger\",\n",
    "    \"worry\": \"worry\",\n",
    "    \"love\": \"love\",\n",
    "    \"surprise\": \"surprise\",\n",
    "    \"neutral\": \"neutral\",\n",
    "    \"fun\": \"happiness\",\n",
    "    \"relief\": \"happiness\",\n",
    "    \"hate\": \"anger\",\n",
    "    \"empty\": \"neutral\",\n",
    "    \"enthusiasm\": \"happiness\",\n",
    "    \"boredom\": \"neutral\",\n",
    "}\n",
    "\n",
    "intersection_dataset.data = intersection_dataset.data.apply(lambda x: [x[\"text\"], class_mappings[x[\"label\"]]], axis=1, result_type=\"expand\")\n",
    "intersection_dataset.data.columns = [\"text\", \"label\"]\n",
    "\n",
    "intersection_dataset.data.to_csv(f\"{PROJECT_ROOT}/data/crowdflower_test.tsv\", sep=\"\\t\", index=False)"
   ]
  }
 ],
 "metadata": {
  "kernelspec": {
   "display_name": "Python 3",
   "language": "python",
   "name": "python3"
  },
  "language_info": {
   "codemirror_mode": {
    "name": "ipython",
    "version": 3
   },
   "file_extension": ".py",
   "mimetype": "text/x-python",
   "name": "python",
   "nbconvert_exporter": "python",
   "pygments_lexer": "ipython3",
   "version": "3.12.4"
  }
 },
 "nbformat": 4,
 "nbformat_minor": 2
}
